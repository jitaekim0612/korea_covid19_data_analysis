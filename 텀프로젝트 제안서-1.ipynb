{
 "cells": [
  {
   "cell_type": "markdown",
   "id": "9b268ff9",
   "metadata": {},
   "source": [
    "# 코로나 19 예방접종센터 및 선별진료소 데이터 마이닝 서비스\n",
    "## 2020100305 김지태"
   ]
  },
  {
   "cell_type": "markdown",
   "id": "a45000e3",
   "metadata": {},
   "source": [
    "# 주제 선정 및 이유"
   ]
  },
  {
   "cell_type": "markdown",
   "id": "ea962bfc",
   "metadata": {},
   "source": [
    "최근 코로나 19의 영향력이 계속되는 가운데, 해외출국자, 고령자 등을 위하여 지속적인 예방접종 서비스가 유지되어야 한다.<br>\n",
    "원활한 예방접종을 위해서는 예방접종을 시행하는 병원, 보건소 등의 위치를 정확히 파악해야 한다.<br>\n",
    "이에 따라, data.go.kr에서 제공하는 예방접종센터 위치 정보와 확진자수의 api, 그리고 국민안심병원의 위치자료 등을 통하여 예방접종장소와 코로나 19 관련 의료기관을 한 눈에 파악할 수 있도록 하고자 본 주제를 선택하였다.<br>"
   ]
  },
  {
   "cell_type": "markdown",
   "id": "43006f58",
   "metadata": {},
   "source": [
    "# 프로젝트 목표"
   ]
  },
  {
   "cell_type": "markdown",
   "id": "ab877d32",
   "metadata": {},
   "source": [
    "다음 프로그램을 통하여 일일 확진자수를 한눈에 파악하기 쉽게 파악하고, 예방접종센터 및 선별진료소를 손쉽게 찾을 수 있도록 하는 것이 이번 프로젝트의 목표이다."
   ]
  },
  {
   "cell_type": "markdown",
   "id": "4685fb0a",
   "metadata": {},
   "source": []
  },
  {
   "cell_type": "markdown",
   "id": "0b52eda3",
   "metadata": {},
   "source": [
    "# 프로그램 구성"
   ]
  },
  {
   "cell_type": "markdown",
   "id": "7eae262b",
   "metadata": {},
   "source": [
    "프로그램은 tkinter을 이용한 gui프로그램으로 제작된다. 우선, 왼쪽 상단에는 일일 확진자수가 표시된다.<br>\n",
    "다음으로 프로그램의 중앙에는 시도와 시군구를 설정할 수 있는 콤보박스와 함께 찾기 버튼이 표시된다 <br>\n",
    "시도와 시군구를 설정한 뒤 버튼을 누르면 해당 도시에 맞는 선별진료소가 하단에 제시된다.<br>\n",
    "오른쪽 상단에는 선별진료소 버튼이 제시되며, 버튼을 누르면 새 창과 함께 시도와 시군구를 고르도록 지시한다.<br>\n",
    "시도와 시군구를 선택하면 가장 가까운 진료소를 찾을 수 있다."
   ]
  },
  {
   "cell_type": "markdown",
   "id": "93134ccb",
   "metadata": {},
   "source": []
  },
  {
   "cell_type": "code",
   "execution_count": null,
   "id": "a43c1d96",
   "metadata": {},
   "outputs": [],
   "source": []
  }
 ],
 "metadata": {
  "kernelspec": {
   "display_name": "Python 3 (ipykernel)",
   "language": "python",
   "name": "python3"
  },
  "language_info": {
   "codemirror_mode": {
    "name": "ipython",
    "version": 3
   },
   "file_extension": ".py",
   "mimetype": "text/x-python",
   "name": "python",
   "nbconvert_exporter": "python",
   "pygments_lexer": "ipython3",
   "version": "3.9.12"
  }
 },
 "nbformat": 4,
 "nbformat_minor": 5
}
